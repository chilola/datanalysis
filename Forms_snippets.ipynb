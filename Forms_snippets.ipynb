{
  "nbformat": 4,
  "nbformat_minor": 0,
  "metadata": {
    "colab": {
      "name": "Forms snippets",
      "version": "0.3.2",
      "provenance": [],
      "collapsed_sections": [],
      "include_colab_link": true
    },
    "kernelspec": {
      "display_name": "Python 3",
      "name": "python3"
    }
  },
  "cells": [
    {
      "cell_type": "markdown",
      "metadata": {
        "id": "view-in-github",
        "colab_type": "text"
      },
      "source": [
        "<a href=\"https://colab.research.google.com/github/chilola/datanalysis/blob/master/Forms_snippets.ipynb\" target=\"_parent\"><img src=\"https://colab.research.google.com/assets/colab-badge.svg\" alt=\"Open In Colab\"/></a>"
      ]
    },
    {
      "metadata": {
        "colab_type": "text",
        "id": "TyFZFP2yN3vh"
      },
      "cell_type": "markdown",
      "source": [
        "## Adding form fields\n",
        "[Forms example](https://colab.research.google.com/notebooks/forms.ipynb)\n",
        "\n",
        "Forms support multiple types of fields with type checking including sliders, date pickers, input fields, dropdown menus, and dropdown menus that allow input."
      ]
    },
    {
      "metadata": {
        "colab_type": "code",
        "id": "MFPrbLmqNDis",
        "colab": {}
      },
      "cell_type": "code",
      "source": [
        "#@title Example form fields\n",
        "#@markdown Forms support many types of fields.\n",
        "\n",
        "no_type_checking = ''  #@param\n",
        "string_type = 'example'  #@param {type: \"string\"}\n",
        "slider_value = 142  #@param {type: \"slider\", min: 100, max: 200}\n",
        "number = 102  #@param {type: \"number\"}\n",
        "date = '2010-11-05'  #@param {type: \"date\"}\n",
        "pick_me = \"monday\"  #@param ['monday', 'tuesday', 'wednesday', 'thursday']\n",
        "select_or_input = \"apples\" #@param [\"apples\", \"bananas\", \"oranges\"] {allow-input: true}\n",
        "#@markdown ---\n"
      ],
      "execution_count": 0,
      "outputs": []
    },
    {
      "metadata": {
        "colab_type": "text",
        "id": "eTZpu6-mNG9j"
      },
      "cell_type": "markdown",
      "source": [
        "## Hiding code\n",
        "[Forms example](https://colab.research.google.com/notebooks/forms.ipynb)\n",
        "\n",
        "The cell below will automatically load with code hidden. Double click on the form title or use the toolbar in the cell to switch from form to both."
      ]
    },
    {
      "metadata": {
        "colab_type": "code",
        "id": "aXJaZqFpNK-q",
        "colab": {}
      },
      "cell_type": "code",
      "source": [
        "#@title Give me a name {display-mode: \"form\"}\n",
        "\n",
        "# This code will be hidden when the notebook is loaded.\n"
      ],
      "execution_count": 0,
      "outputs": []
    },
    {
      "metadata": {
        "id": "gOBg1VT9_yC4",
        "colab_type": "text"
      },
      "cell_type": "markdown",
      "source": [
        "# Load CSV Data"
      ]
    },
    {
      "metadata": {
        "id": "NmvqznbZ_zGD",
        "colab_type": "code",
        "colab": {}
      },
      "cell_type": "code",
      "source": [
        "import pandas as pd\n",
        "import numpy as np\n",
        "\n",
        "from google.colab import files\n",
        "uploaded = files.upload()\n",
        "\n",
        "import io\n",
        "df = pd.read_csv(io.BytesIO(uploaded['dummydata.csv']))\n",
        "df"
      ],
      "execution_count": 0,
      "outputs": []
    }
  ]
}